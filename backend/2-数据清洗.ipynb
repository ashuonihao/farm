{
 "cells": [
  {
   "cell_type": "code",
   "id": "3cc82916",
   "metadata": {
    "ExecuteTime": {
     "end_time": "2025-03-22T11:31:32.848455Z",
     "start_time": "2025-03-22T11:31:31.861007Z"
    }
   },
   "source": [
    "import numpy as np\n",
    "import pandas as pd\n",
    "\n",
    "import json,re,os,time,random\n",
    "from tqdm import tqdm\n",
    "from datetime import datetime\n",
    "from collections import defaultdict, Counter\n",
    "\n",
    "import warnings\n",
    "warnings.filterwarnings('ignore')"
   ],
   "outputs": [],
   "execution_count": 1
  },
  {
   "cell_type": "markdown",
   "id": "1a8eae86",
   "metadata": {},
   "source": [
    "# 水稻处理"
   ]
  },
  {
   "cell_type": "code",
   "id": "0ad27022",
   "metadata": {
    "scrolled": false,
    "ExecuteTime": {
     "end_time": "2025-03-22T11:31:32.959786Z",
     "start_time": "2025-03-22T11:31:32.850442Z"
    }
   },
   "source": [
    "df1 = pd.read_csv('data/水稻数据.csv')\n",
    "# ['省份','品种名称','亲本来源','类型','原产地','审定编号']\n",
    "df1.head()"
   ],
   "outputs": [
    {
     "data": {
      "text/plain": [
       "   省份     品种名称        亲本来源       类型             原产地         审定编号\n",
       "0  福建  榕夏两优676   榕夏S×福恢676  籼型两系杂交稻   福建省农业科学院水稻研究所  闽审稻20210013\n",
       "1  福建   澜优粤禾丝苗    澜达A×粤禾丝苗  籼型三系杂交稻  福建省农业科学院水稻研究所等  闽审稻20190031\n",
       "2  福建  元两优1725  元亨S×福恢1725  籼型两系杂交稻   福建省农业科学院水稻研究所  闽审稻20210012\n",
       "3  福建   野香优639   野香A×福恢639  籼型三系杂交稻   福建禾丰种业股份有限公司等  闽审稻20190030\n",
       "4  福建   旌3优164   旌3A×明恢164  籼型三系杂交稻     福建农乐种业有限公司等  闽审稻20210011"
      ],
      "text/html": [
       "<div>\n",
       "<style scoped>\n",
       "    .dataframe tbody tr th:only-of-type {\n",
       "        vertical-align: middle;\n",
       "    }\n",
       "\n",
       "    .dataframe tbody tr th {\n",
       "        vertical-align: top;\n",
       "    }\n",
       "\n",
       "    .dataframe thead th {\n",
       "        text-align: right;\n",
       "    }\n",
       "</style>\n",
       "<table border=\"1\" class=\"dataframe\">\n",
       "  <thead>\n",
       "    <tr style=\"text-align: right;\">\n",
       "      <th></th>\n",
       "      <th>省份</th>\n",
       "      <th>品种名称</th>\n",
       "      <th>亲本来源</th>\n",
       "      <th>类型</th>\n",
       "      <th>原产地</th>\n",
       "      <th>审定编号</th>\n",
       "    </tr>\n",
       "  </thead>\n",
       "  <tbody>\n",
       "    <tr>\n",
       "      <th>0</th>\n",
       "      <td>福建</td>\n",
       "      <td>榕夏两优676</td>\n",
       "      <td>榕夏S×福恢676</td>\n",
       "      <td>籼型两系杂交稻</td>\n",
       "      <td>福建省农业科学院水稻研究所</td>\n",
       "      <td>闽审稻20210013</td>\n",
       "    </tr>\n",
       "    <tr>\n",
       "      <th>1</th>\n",
       "      <td>福建</td>\n",
       "      <td>澜优粤禾丝苗</td>\n",
       "      <td>澜达A×粤禾丝苗</td>\n",
       "      <td>籼型三系杂交稻</td>\n",
       "      <td>福建省农业科学院水稻研究所等</td>\n",
       "      <td>闽审稻20190031</td>\n",
       "    </tr>\n",
       "    <tr>\n",
       "      <th>2</th>\n",
       "      <td>福建</td>\n",
       "      <td>元两优1725</td>\n",
       "      <td>元亨S×福恢1725</td>\n",
       "      <td>籼型两系杂交稻</td>\n",
       "      <td>福建省农业科学院水稻研究所</td>\n",
       "      <td>闽审稻20210012</td>\n",
       "    </tr>\n",
       "    <tr>\n",
       "      <th>3</th>\n",
       "      <td>福建</td>\n",
       "      <td>野香优639</td>\n",
       "      <td>野香A×福恢639</td>\n",
       "      <td>籼型三系杂交稻</td>\n",
       "      <td>福建禾丰种业股份有限公司等</td>\n",
       "      <td>闽审稻20190030</td>\n",
       "    </tr>\n",
       "    <tr>\n",
       "      <th>4</th>\n",
       "      <td>福建</td>\n",
       "      <td>旌3优164</td>\n",
       "      <td>旌3A×明恢164</td>\n",
       "      <td>籼型三系杂交稻</td>\n",
       "      <td>福建农乐种业有限公司等</td>\n",
       "      <td>闽审稻20210011</td>\n",
       "    </tr>\n",
       "  </tbody>\n",
       "</table>\n",
       "</div>"
      ]
     },
     "execution_count": 2,
     "metadata": {},
     "output_type": "execute_result"
    }
   ],
   "execution_count": 2
  },
  {
   "cell_type": "code",
   "id": "d6d56030",
   "metadata": {
    "ExecuteTime": {
     "end_time": "2025-03-22T11:31:32.990821Z",
     "start_time": "2025-03-22T11:31:32.961792Z"
    }
   },
   "source": [
    "# 删除 \\u3000\n",
    "df1['省份'] = df1['省份'].apply(lambda x: x.replace('\\u3000',''))\n",
    "df1['省份'].unique()\n",
    "# 筛选数据  筛选省份是中南地区，即河南、湖北、湖南、广东、广西、海南的数据 ，删除亲本来源 包含 ? 数据\n",
    "pro_list = '河南、湖北、湖南、广东、广西、海南'\n",
    "pro_list = pro_list.split('、')\n",
    "#pro_list\n",
    "df1 = df1[df1['省份'].isin(pro_list)]"
   ],
   "outputs": [],
   "execution_count": 3
  },
  {
   "cell_type": "code",
   "id": "0dea6251",
   "metadata": {
    "ExecuteTime": {
     "end_time": "2025-03-22T11:31:33.006548Z",
     "start_time": "2025-03-22T11:31:32.992997Z"
    }
   },
   "source": [],
   "outputs": [],
   "execution_count": 3
  },
  {
   "cell_type": "code",
   "id": "144456b8",
   "metadata": {
    "ExecuteTime": {
     "end_time": "2025-03-22T11:31:33.053456Z",
     "start_time": "2025-03-22T11:31:33.009808Z"
    }
   },
   "source": [
    "# 抽取审定方 中文\n",
    "# 审定方： 湘品审—>湘审稻，桂审证字—>桂审稻，豫籼—>豫审稻，豫粳—>豫审稻，豫糯—>豫审稻，豫籼—>豫审稻\n",
    "def extract_chinese(string):\n",
    "    \"\"\"\n",
    "    string = \"重出江湖hello的地H方。。的,world\"\n",
    "    extract_chinese(string)\n",
    "    \"\"\"\n",
    "    \n",
    "    import re\n",
    "    # string = \"重出江湖hello的地H方。。的,world\"\n",
    "    \n",
    "    str_new = re.sub(\"[A-Za-z0-9\\,\\。]\", \"\", string).replace(' ','')\n",
    "    # 输出：神的孩子在唱歌\n",
    "    #     print(str_new)\n",
    "    return str_new\n",
    "\n",
    "df1['审定方'] = df1['审定编号'].apply(extract_chinese)\n",
    "df1['审定方'].unique()"
   ],
   "outputs": [
    {
     "data": {
      "text/plain": [
       "array(['湘审稻', '湘品审第号', '豫审稻', '鄂审稻', '湘审稻第号', '-', '/', '豫籼号', '豫粳号', '',\n",
       "       '荆粳号', '扬稻号', '四喜粘', '鄂审稻-', '香稻丸', '新乡糯号', '红南', '桂朝号', '广二矮',\n",
       "       '粤审稻', '珍珠矮', '新稻-', '南京', '八四矮', '优', '香宝号', '豫糯号', '黄金晴', '特青号',\n",
       "       '桂审稻号', '琼审稻', '桂审证字第号', '琼审稻（亲本）'], dtype=object)"
      ]
     },
     "execution_count": 4,
     "metadata": {},
     "output_type": "execute_result"
    }
   ],
   "execution_count": 4
  },
  {
   "cell_type": "code",
   "id": "ac4aa0e9",
   "metadata": {
    "scrolled": false,
    "ExecuteTime": {
     "end_time": "2025-03-22T11:31:33.069129Z",
     "start_time": "2025-03-22T11:31:33.055668Z"
    }
   },
   "source": [
    "# 替换名字 在里面的就替换  不在里面的空值\n",
    "# 河南、湖北、湖南、广东、广西、海南\n",
    "pro_list = ['豫','鄂','湘','粤','桂','琼',]\n",
    "\n",
    "def fun(string):\n",
    "    for k in pro_list:\n",
    "        if k in string:\n",
    "            return k+'审稻'\n",
    "#     print(string,None)\n",
    "    return None\n",
    "\n",
    "df1['审定方'] = df1['审定方'].apply(fun)"
   ],
   "outputs": [],
   "execution_count": 5
  },
  {
   "cell_type": "code",
   "id": "872c9b2e",
   "metadata": {
    "ExecuteTime": {
     "end_time": "2025-03-22T11:31:33.100401Z",
     "start_time": "2025-03-22T11:31:33.072124Z"
    }
   },
   "source": [
    "# 审定序号：从审定编号 提取数字\n",
    "def extract_num(string):\n",
    "    \"\"\"\n",
    "    string = \"重出江湖123的地H方。4。的,world\"\n",
    "    extract_num(string)\n",
    "    # 输出 1234\n",
    "    \"\"\"\n",
    "    \n",
    "    import re\n",
    "    str_new = re.sub(\"[A-Za-z\\u4e00-\\u9fa5\\,\\。]\", \"\", string)\n",
    "    return str_new\n",
    "df1['审定序号'] = df1['审定编号'].apply(extract_num)"
   ],
   "outputs": [],
   "execution_count": 6
  },
  {
   "cell_type": "code",
   "id": "9bf54c8d",
   "metadata": {
    "scrolled": true,
    "ExecuteTime": {
     "end_time": "2025-03-22T11:31:33.115309Z",
     "start_time": "2025-03-22T11:31:33.102397Z"
    }
   },
   "source": [
    "# 母本：亲本来源（\"×\"前为母本）\n",
    "def fun(string):\n",
    "    return string.split('×')[0]\n",
    "    pass\n",
    "df1['母本'] = df1['亲本来源'].apply(fun)"
   ],
   "outputs": [],
   "execution_count": 7
  },
  {
   "cell_type": "code",
   "id": "75f0611c",
   "metadata": {
    "ExecuteTime": {
     "end_time": "2025-03-22T11:31:33.145933Z",
     "start_time": "2025-03-22T11:31:33.117027Z"
    }
   },
   "source": [
    "# 审定公司：原产地 删除\"等\"\n",
    "df1['审定公司'] = df1['原产地'].apply(lambda x: x.replace('等',''))"
   ],
   "outputs": [],
   "execution_count": 8
  },
  {
   "cell_type": "code",
   "id": "8a1af531",
   "metadata": {
    "ExecuteTime": {
     "end_time": "2025-03-22T11:31:33.224177Z",
     "start_time": "2025-03-22T11:31:33.147926Z"
    }
   },
   "source": [
    "# 去空\n",
    "df1 = df1.dropna()\n",
    "# 去重复\n",
    "df1 = df1.drop_duplicates()\n",
    "# 删除亲本来源 包含 ? 数据\n",
    "df1 = df1[df1['亲本来源']!= '?']\n",
    "\n",
    "df1.to_csv('data/水稻数据_清洗.csv',index=None)"
   ],
   "outputs": [],
   "execution_count": 9
  },
  {
   "cell_type": "markdown",
   "id": "e76f7d19",
   "metadata": {},
   "source": [
    "# 农产品"
   ]
  },
  {
   "cell_type": "code",
   "id": "df0b4317",
   "metadata": {
    "ExecuteTime": {
     "end_time": "2025-03-22T11:31:33.396919Z",
     "start_time": "2025-03-22T11:31:33.226344Z"
    }
   },
   "source": [
    "# 分类 品名 最高价 平均价  最低价 单位 规格 产地 发布日期 \n",
    "columns = ['categoryName', 'productName', 'priceMax', 'priceAvg','priceMin',\n",
    "           'unit', 'productSize',  'productPlace', 'recordDate', ]\n",
    "\n",
    "df2 = pd.read_csv('data/农产品数据.csv')\n",
    "df2.head()"
   ],
   "outputs": [
    {
     "data": {
      "text/plain": [
       "  categoryName productName  priceMax  priceAvg  priceMin unit productSize  \\\n",
       "0           副食         NaN       NaN       0.0       NaN  NaN         NaN   \n",
       "1           副食         薄千张       8.6       8.5       8.4   公斤          普通   \n",
       "2           副食         薄千张       8.6       8.5       8.4   公斤          普通   \n",
       "3           副食         薄千张       8.6       8.5       8.4   公斤          普通   \n",
       "4           副食         薄千张       8.6       8.5       8.4   公斤          普通   \n",
       "\n",
       "  productPlace     recordDate  \n",
       "0          NaN  1636992000000  \n",
       "1           河南  1742576861000  \n",
       "2           河南  1742490436000  \n",
       "3           河南  1742403693000  \n",
       "4           河南  1742317729000  "
      ],
      "text/html": [
       "<div>\n",
       "<style scoped>\n",
       "    .dataframe tbody tr th:only-of-type {\n",
       "        vertical-align: middle;\n",
       "    }\n",
       "\n",
       "    .dataframe tbody tr th {\n",
       "        vertical-align: top;\n",
       "    }\n",
       "\n",
       "    .dataframe thead th {\n",
       "        text-align: right;\n",
       "    }\n",
       "</style>\n",
       "<table border=\"1\" class=\"dataframe\">\n",
       "  <thead>\n",
       "    <tr style=\"text-align: right;\">\n",
       "      <th></th>\n",
       "      <th>categoryName</th>\n",
       "      <th>productName</th>\n",
       "      <th>priceMax</th>\n",
       "      <th>priceAvg</th>\n",
       "      <th>priceMin</th>\n",
       "      <th>unit</th>\n",
       "      <th>productSize</th>\n",
       "      <th>productPlace</th>\n",
       "      <th>recordDate</th>\n",
       "    </tr>\n",
       "  </thead>\n",
       "  <tbody>\n",
       "    <tr>\n",
       "      <th>0</th>\n",
       "      <td>副食</td>\n",
       "      <td>NaN</td>\n",
       "      <td>NaN</td>\n",
       "      <td>0.0</td>\n",
       "      <td>NaN</td>\n",
       "      <td>NaN</td>\n",
       "      <td>NaN</td>\n",
       "      <td>NaN</td>\n",
       "      <td>1636992000000</td>\n",
       "    </tr>\n",
       "    <tr>\n",
       "      <th>1</th>\n",
       "      <td>副食</td>\n",
       "      <td>薄千张</td>\n",
       "      <td>8.6</td>\n",
       "      <td>8.5</td>\n",
       "      <td>8.4</td>\n",
       "      <td>公斤</td>\n",
       "      <td>普通</td>\n",
       "      <td>河南</td>\n",
       "      <td>1742576861000</td>\n",
       "    </tr>\n",
       "    <tr>\n",
       "      <th>2</th>\n",
       "      <td>副食</td>\n",
       "      <td>薄千张</td>\n",
       "      <td>8.6</td>\n",
       "      <td>8.5</td>\n",
       "      <td>8.4</td>\n",
       "      <td>公斤</td>\n",
       "      <td>普通</td>\n",
       "      <td>河南</td>\n",
       "      <td>1742490436000</td>\n",
       "    </tr>\n",
       "    <tr>\n",
       "      <th>3</th>\n",
       "      <td>副食</td>\n",
       "      <td>薄千张</td>\n",
       "      <td>8.6</td>\n",
       "      <td>8.5</td>\n",
       "      <td>8.4</td>\n",
       "      <td>公斤</td>\n",
       "      <td>普通</td>\n",
       "      <td>河南</td>\n",
       "      <td>1742403693000</td>\n",
       "    </tr>\n",
       "    <tr>\n",
       "      <th>4</th>\n",
       "      <td>副食</td>\n",
       "      <td>薄千张</td>\n",
       "      <td>8.6</td>\n",
       "      <td>8.5</td>\n",
       "      <td>8.4</td>\n",
       "      <td>公斤</td>\n",
       "      <td>普通</td>\n",
       "      <td>河南</td>\n",
       "      <td>1742317729000</td>\n",
       "    </tr>\n",
       "  </tbody>\n",
       "</table>\n",
       "</div>"
      ]
     },
     "execution_count": 10,
     "metadata": {},
     "output_type": "execute_result"
    }
   ],
   "execution_count": 10
  },
  {
   "cell_type": "code",
   "id": "fe6ad234",
   "metadata": {
    "scrolled": true,
    "ExecuteTime": {
     "end_time": "2025-03-22T11:31:33.597546Z",
     "start_time": "2025-03-22T11:31:33.398945Z"
    }
   },
   "source": [
    "# 删除非中南 和排序\n",
    "agri_provinces = '河南、湖北、湖南、广东、广西、海南'.split('、') \n",
    "\n",
    "def fun(string):\n",
    "    l = str(string).split('/')  # 强制转字符串处理可能的非字符串数据\n",
    "    l = [i for i in l if i in agri_provinces]  # 筛选符合条件的省份\n",
    "    return '/'.join(sorted(l))  # 排序后拼接\n",
    "\n",
    "df2['productPlace'] = df2['productPlace'].apply(fun)\n",
    "df2 = df2[df2['productPlace'] != '']  # 过滤空字符串结果"
   ],
   "outputs": [],
   "execution_count": 11
  },
  {
   "cell_type": "code",
   "id": "1ed6dfe9",
   "metadata": {
    "ExecuteTime": {
     "end_time": "2025-03-22T11:31:33.644565Z",
     "start_time": "2025-03-22T11:31:33.601145Z"
    }
   },
   "source": [
    "# 没有空值  不需要处理\n",
    "df2.isnull().sum()"
   ],
   "outputs": [
    {
     "data": {
      "text/plain": [
       "categoryName     0\n",
       "productName      0\n",
       "priceMax        18\n",
       "priceAvg        18\n",
       "priceMin        18\n",
       "unit             0\n",
       "productSize      0\n",
       "productPlace     0\n",
       "recordDate       0\n",
       "dtype: int64"
      ]
     },
     "execution_count": 12,
     "metadata": {},
     "output_type": "execute_result"
    }
   ],
   "execution_count": 12
  },
  {
   "cell_type": "code",
   "id": "4169d357",
   "metadata": {
    "scrolled": true,
    "ExecuteTime": {
     "end_time": "2025-03-22T11:31:34.482537Z",
     "start_time": "2025-03-22T11:31:33.649446Z"
    }
   },
   "source": [
    "#1708963200000\n",
    "import datetime\n",
    "import pandas as pd\n",
    "\n",
    "def timestamp_to_time(timestamp):\n",
    "    # 处理 Pandas.Timestamp 类型\n",
    "    if isinstance(timestamp, pd.Timestamp):\n",
    "        timestamp_num = int(timestamp.timestamp())  # 直接获取 Timestamp 的秒级时间戳\n",
    "    else:\n",
    "        timestamp_num = int(timestamp) // 1000  # 处理普通数值类型\n",
    "    date = datetime.datetime.fromtimestamp(timestamp_num)\n",
    "    date_str = date.strftime(\"%Y-%m-%d %H:%M:%S\")\n",
    "    return date_str\n",
    "\n",
    "df2['recordDate'] = df2['recordDate'].apply(timestamp_to_time)"
   ],
   "outputs": [],
   "execution_count": 13
  },
  {
   "cell_type": "code",
   "id": "80efbc35",
   "metadata": {
    "ExecuteTime": {
     "end_time": "2025-03-22T11:31:34.604580Z",
     "start_time": "2025-03-22T11:31:34.486523Z"
    }
   },
   "source": [
    "# 去重复\n",
    "df2 = df2.drop_duplicates()\n",
    "df2.to_csv('data/农产品数据_清洗.csv',index=None)"
   ],
   "outputs": [],
   "execution_count": 14
  },
  {
   "cell_type": "code",
   "id": "63623da6",
   "metadata": {
    "ExecuteTime": {
     "end_time": "2025-03-22T11:31:34.619529Z",
     "start_time": "2025-03-22T11:31:34.607570Z"
    }
   },
   "source": [
    "sorted(pro_list)"
   ],
   "outputs": [
    {
     "data": {
      "text/plain": [
       "['桂', '湘', '琼', '粤', '豫', '鄂']"
      ]
     },
     "execution_count": 15,
     "metadata": {},
     "output_type": "execute_result"
    }
   ],
   "execution_count": 15
  },
  {
   "cell_type": "code",
   "id": "dceb5a4b",
   "metadata": {
    "ExecuteTime": {
     "end_time": "2025-03-22T11:31:34.634483Z",
     "start_time": "2025-03-22T11:31:34.622520Z"
    }
   },
   "source": [],
   "outputs": [],
   "execution_count": 15
  },
  {
   "cell_type": "code",
   "id": "1232bac2",
   "metadata": {
    "ExecuteTime": {
     "end_time": "2025-03-22T11:31:34.649939Z",
     "start_time": "2025-03-22T11:31:34.636476Z"
    }
   },
   "source": [],
   "outputs": [],
   "execution_count": 15
  },
  {
   "metadata": {
    "ExecuteTime": {
     "end_time": "2025-03-22T11:31:34.665641Z",
     "start_time": "2025-03-22T11:31:34.651933Z"
    }
   },
   "cell_type": "code",
   "source": "",
   "id": "57af17a5412731df",
   "outputs": [],
   "execution_count": 15
  }
 ],
 "metadata": {
  "kernelspec": {
   "display_name": "Python 3 (ipykernel)",
   "language": "python",
   "name": "python3"
  },
  "language_info": {
   "codemirror_mode": {
    "name": "ipython",
    "version": 3
   },
   "file_extension": ".py",
   "mimetype": "text/x-python",
   "name": "python",
   "nbconvert_exporter": "python",
   "pygments_lexer": "ipython3",
   "version": "3.7.9"
  }
 },
 "nbformat": 4,
 "nbformat_minor": 5
}
